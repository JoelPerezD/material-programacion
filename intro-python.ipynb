{
 "cells": [
  {
   "cell_type": "markdown",
   "metadata": {},
   "source": [
    "<a href=\"https://colab.research.google.com/github/mcd-unison/material-programacion/blob/main/intro-python.ipynb\" target=\"_parent\"><img src=\"https://colab.research.google.com/assets/colab-badge.svg\" alt=\"Open In Colab\"/></a>"
   ]
  },
  {
   "cell_type": "markdown",
   "metadata": {},
   "source": [
    "<center>\n",
    "<p><img src=\"https://mcd.unison.mx/wp-content/themes/awaken/img/logo_mcd.png\" width=\"100\">\n",
    "</p>\n",
    "\n",
    "\n",
    "\n",
    "# Curso Propedéutico en *Programación*\n",
    "\n",
    "## Introducción a `python` resolviendo preguntas\n",
    "\n",
    "\n",
    "**Julio Waissman Vilanova**\n",
    "\n"
   ]
  },
  {
   "cell_type": "markdown",
   "metadata": {},
   "source": [
    "### Tipos\n",
    "\n",
    "¿Cuales son los tipos de datos básicos? Revisa los tipos siguientes:\n",
    "\n",
    "1. Tipos numéricos `int`, `float`, `complex`\n",
    "2. Cadenas de caracteres\n",
    "3. Tuplas\n",
    "4. Listas\n",
    "5. Diccionarios\n",
    "6. Conjuntos\n",
    "\n",
    "Da ejemplo de sobrecarga de operadores (en particular `+` y `*`)\n",
    "\n"
   ]
  },
  {
   "cell_type": "code",
   "execution_count": 1,
   "metadata": {},
   "outputs": [
    {
     "name": "stdout",
     "output_type": "stream",
     "text": [
      "9\n"
     ]
    }
   ],
   "source": [
    "a=4\n",
    "b=5\n",
    "print(a+b)"
   ]
  },
  {
   "cell_type": "markdown",
   "metadata": {},
   "source": [
    "¿Que significa que unos tipos sean *mutables* y otros *inmutables*? \n",
    "\n",
    "Realiza un pequeño programa donde quede claro lo que significa que un tipo de datos sea mutable, e ilustra el uso del método `copy.deepcopy()`. "
   ]
  },
  {
   "cell_type": "code",
   "execution_count": 13,
   "metadata": {},
   "outputs": [
    {
     "name": "stdout",
     "output_type": "stream",
     "text": [
      "[[1, 2, 3], 'joel', 'ana', 4.2, 'juan']\n",
      "[[1, 2, 3], 'joel', 'ana', 4.2]\n"
     ]
    }
   ],
   "source": [
    "l1 = [[1,2,3], 'joel', 'ana', 4.2]\n",
    "\n",
    "def listaMutable(lista, valor):\n",
    "    lista2 = lista[:]\n",
    "    lista2.append(valor)\n",
    "    return lista2\n",
    "\n",
    "l2 = listaMutable(l1, 'juan')\n",
    "print(l2)\n",
    "print(l1)\n",
    "#que sea mutable significa que puede seguir cambiando"
   ]
  },
  {
   "cell_type": "markdown",
   "metadata": {},
   "source": [
    "### *Comprehension* de listas, conjuntos y diccionarios \n",
    "\n",
    "Escribe, en una sola linea, una expresión que genere una lista con todos los números enteros que se encuentran entre $1$ y $n$ \n",
    "que sean divisibles por $3$ y $7$ y que el dígito menos significativo del número sea $6$."
   ]
  },
  {
   "cell_type": "code",
   "execution_count": 14,
   "metadata": {},
   "outputs": [
    {
     "name": "stdout",
     "output_type": "stream",
     "text": [
      "[126, 336, 546, 756, 966, 1176, 1386, 1596, 1806, 2016, 2226, 2436, 2646, 2856, 3066, 3276, 3486, 3696, 3906, 4116, 4326, 4536, 4746, 4956, 5166, 5376, 5586, 5796, 6006, 6216, 6426, 6636, 6846, 7056, 7266, 7476, 7686, 7896, 8106, 8316, 8526, 8736, 8946, 9156, 9366, 9576, 9786, 9996]\n"
     ]
    }
   ],
   "source": [
    "n = 10_000\n",
    "b = [x for x in range(1, n+1) if x % 3 == 0 and x % 7 == 0 and x % 10 == 6]\n",
    "print(b)\n",
    "#lista de numeros del 1 a n que son divisibles entre 3 y 7 y el ultimo digito es 6 "
   ]
  },
  {
   "cell_type": "markdown",
   "metadata": {},
   "source": [
    "### Funciones\n",
    "\n",
    "Escribe una función que:\n",
    "\n",
    "1. reciba una lista de elementos (letras, números, lo que sea), \n",
    "2. cuente la ocurrencia de cada elemento en la lista, \n",
    "3. devuelva las ocurrencias en forma de diccionario,\n",
    "4. si imprime es True, imprima un histograma de ocurrencias, por ejemplo:\n",
    "\n",
    "```python\n",
    "\n",
    "lista = [1,'a',1, 13, 'hola', 'a', 1, 1, 'a', 1]\n",
    "\n",
    "d = funcion_ejemplo(lista, imprime = True)\n",
    "\n",
    "1    \t\t***** \t(5 -> 50%)\n",
    "'a'  \t\t***   \t(3 -> 30%)\n",
    "13\t\t*\t(1 -> 10%)\n",
    "'hola'\t\t*\t(1 -> 10%)\n",
    "\n",
    "```"
   ]
  },
  {
   "cell_type": "code",
   "execution_count": 25,
   "metadata": {},
   "outputs": [
    {
     "name": "stdout",
     "output_type": "stream",
     "text": [
      "1: ***** 5  veces\n",
      "a: *** 3  veces\n",
      "13: * 1  veces\n",
      "hola: * 1  veces\n",
      "{1: 5, 'a': 3, 13: 1, 'hola': 1}\n",
      "None\n"
     ]
    }
   ],
   "source": [
    "# Escribe la función aquí\n",
    "\n",
    "def contarOcurrencia (lista, imprime=True):\n",
    "    diccionario={}\n",
    "    for elemento in lista:\n",
    "        if elemento in diccionario:\n",
    "            # si el elemeto ya esta en la lista sumae 1 al valor que ya existe. \n",
    "            diccionario[elemento]+=1\n",
    "        else:\n",
    "               # si no hay nada agrega el elemento a la lista y le asigna 1  \n",
    "               diccionario[elemento]=1\n",
    "        \n",
    "    for i, j in diccionario.items():\n",
    "            print(f\"{i}: {'*' * j} {j}  veces\")\n",
    "\n",
    "    print(diccionario)\n",
    "    \n",
    "\n",
    "lista = [1,'a',1, 13, 'hola', 'a', 1, 1, 'a', 1]\n",
    "a=contarOcurrencia(lista, imprime=True)\n",
    "print(a)"
   ]
  },
  {
   "cell_type": "code",
   "execution_count": null,
   "metadata": {},
   "outputs": [],
   "source": [
    "# Realiza pruebas aquí\n",
    "lista = [1,'a',1, 13, 'hola', 'a', 1, 1, 'a', 1]\n",
    "d = funcion_ejemplo(lista, imprime = True)\n",
    "print(d)"
   ]
  },
  {
   "cell_type": "markdown",
   "metadata": {},
   "source": [
    "Escribe una función que modifique un diccionario y regrese el diccionario modificado y una copia del original, donde cada entrada \n",
    "del diccionario sea una lista de valores. Ten en cuenta que si una entrada del diccionario es de tipo mutable, al modificarlo en la\n",
    "copia se modifica el original. Utiliza el modulo `copy` para evitar este problema. Ejemplo de la función:\n",
    "\n",
    "```python\n",
    "dic1 = {'Pepe':[12, 'enero', 1980], 'Carolina':[15,'mayo',1975],'Paco':[10,'nov',1970]}\n",
    "dic2 = fundicos(dic1, 'Pepe', 1, 'febrero')\n",
    "\n",
    "print(dic1) \n",
    "{'Pepe':[12, 'enero', 1980], 'Carolina':[15,'mayo',1975],'Paco':[10,'nov',1970]}\n",
    "\n",
    "print(dic2) \n",
    "{'Pepe':[12, 'febrero', 1980], 'Carolina':[15,'mayo',1975],'Paco':[10,'nov',1970]}\n",
    "```"
   ]
  },
  {
   "cell_type": "code",
   "execution_count": null,
   "metadata": {},
   "outputs": [],
   "source": [
    "# Escribe la función fundicos aquí\n",
    "\n",
    "def modificar(diccionario):\n",
    "    "
   ]
  },
  {
   "cell_type": "code",
   "execution_count": null,
   "metadata": {},
   "outputs": [],
   "source": [
    "# Realiza pruebas de fundicos aquí\n",
    "dic1 = {'Pepe':[12, 'enero', 1980], 'Carolina':[15,'mayo',1975],'Paco':[10,'nov',1970]}\n",
    "dic2 = fundicos(dic1, 'Pepe', 1, 'febrero')\n",
    "\n",
    "print(dic1) \n",
    "print(dic2) "
   ]
  },
  {
   "cell_type": "markdown",
   "metadata": {},
   "source": [
    "### Generadores\n",
    "\n",
    "Escribe un generador que reciba una lista y genere todas las permutaciones que se puedan hacer con los elementos de la lista"
   ]
  },
  {
   "cell_type": "code",
   "execution_count": 1,
   "metadata": {},
   "outputs": [],
   "source": [
    "# Escribe aqui fun1\n",
    "  #hare tranoa porqye este ya lo explico en clase  \n",
    "from itertools import permutations \n",
    "def permutaciones(lista):\n",
    "      return list(permutations(lista)) \n"
   ]
  },
  {
   "cell_type": "code",
   "execution_count": 32,
   "metadata": {},
   "outputs": [
    {
     "name": "stdout",
     "output_type": "stream",
     "text": [
      "('a', 'b', 'c', 'd')\n",
      "('a', 'b', 'd', 'c')\n",
      "('a', 'c', 'b', 'd')\n",
      "('a', 'c', 'd', 'b')\n",
      "('a', 'd', 'b', 'c')\n",
      "('a', 'd', 'c', 'b')\n",
      "('b', 'a', 'c', 'd')\n",
      "('b', 'a', 'd', 'c')\n",
      "('b', 'c', 'a', 'd')\n",
      "('b', 'c', 'd', 'a')\n",
      "('b', 'd', 'a', 'c')\n",
      "('b', 'd', 'c', 'a')\n",
      "('c', 'a', 'b', 'd')\n",
      "('c', 'a', 'd', 'b')\n",
      "('c', 'b', 'a', 'd')\n",
      "('c', 'b', 'd', 'a')\n",
      "('c', 'd', 'a', 'b')\n",
      "('c', 'd', 'b', 'a')\n",
      "('d', 'a', 'b', 'c')\n",
      "('d', 'a', 'c', 'b')\n",
      "('d', 'b', 'a', 'c')\n",
      "('d', 'b', 'c', 'a')\n",
      "('d', 'c', 'a', 'b')\n",
      "('d', 'c', 'b', 'a')\n"
     ]
    }
   ],
   "source": [
    "# Realiza pruebas de fun2 aquí\n",
    "for p in permutaciones(['a', 'b', 'c', 'd']):\n",
    "    print(p)"
   ]
  },
  {
   "cell_type": "markdown",
   "metadata": {},
   "source": [
    "Ahora escribe una funcipn que reciba 4 digitos del 0 al 9, y devuelva una lista con todas las horas váidas que se puedan hacer con estos dígitos en forma de lista de strings con la forma `\"HH:MM\"`."
   ]
  },
  {
   "cell_type": "code",
   "execution_count": 26,
   "metadata": {},
   "outputs": [],
   "source": [
    "from itertools import permutations \n",
    "\n",
    "def horas_validas(lista):\n",
    "    horas=[]\n",
    "    combinaciones = list(permutations(lista)) #permuta los 4 digitos\n",
    "    for i in combinaciones: \n",
    "        hora = int(f\"{i[0]}{i[1]}\")  # se asignar los primeros dos digitos de cada lista como horas y los ultimos 3 como digitps\n",
    "        minuto = int(f\"{i[2]}{i[3]}\")\n",
    "        if 0 <= hora < 24 and 0 <= minuto < 60:  #  es menor que 24  y los ultimos 2 menor a 60 agregalos a la lista vacia \n",
    "            horas.append(f\"{hora}:{minuto}\")\n",
    "    return horas            \n"
   ]
  },
  {
   "cell_type": "markdown",
   "metadata": {},
   "source": [
    "Validando:"
   ]
  },
  {
   "cell_type": "code",
   "execution_count": 30,
   "metadata": {},
   "outputs": [
    {
     "name": "stdout",
     "output_type": "stream",
     "text": [
      "['21:43', '21:34', '23:41', '23:14', '12:43', '12:34', '14:23', '14:32', '13:24', '13:42']\n"
     ]
    }
   ],
   "source": [
    "print(horas_validas([2,4,1,3]))"
   ]
  },
  {
   "cell_type": "markdown",
   "metadata": {},
   "source": [
    "Escribe una función, lo más compacta posible, que escoja entre los 3 patrones ascii a continuación, e imprima en pantalla \n",
    "el deseado, pero de dimensión $n$ ($n \\ge 4$), toma en cuanta que para algunos valores de $n$ habrá \n",
    "algún(os) patrones que no se puedan hacer.\n",
    "\n",
    "```\n",
    "          *             ++++           oooooooo\n",
    "          **            ++++           ooo  ooo\n",
    "          ***           ++++           oo    oo\n",
    "          ****          ++++           o      o\n",
    "          *****             ++++       o      o\n",
    "          ******            ++++       oo    oo\n",
    "          *******           ++++       ooo  ooo\n",
    "          ********          ++++       oooooooo\n",
    "\n",
    "```"
   ]
  },
  {
   "cell_type": "code",
   "execution_count": 35,
   "metadata": {},
   "outputs": [],
   "source": [
    "# Escribe aquí la función\n",
    "\n",
    "def ascii(n, patron):\n",
    "    if n < 4:\n",
    "        print(\"n debe ser mayor o igual a 4\")\n",
    "        return\n",
    "\n",
    "    if patron == 1:\n",
    "        for i in range(1, n + 1):\n",
    "             print('*' * i)\n",
    "    elif patron == 2:\n",
    "        mitad = n // 2\n",
    "        for i in range(mitad):\n",
    "            print('++++')\n",
    "        for i in range(mitad):\n",
    "            print('    ++++')\n",
    "    elif patron == 3:\n",
    "    \n",
    "        for i in range(n//2):\n",
    "            print('o' * (n//2 - i) + ' ' * (2 * i) + 'o' * (n//2 - i))\n",
    "\n",
    "        for i in range(n//2):\n",
    "            print('o' * (i + 1) + ' ' * (n - 2 * (i + 1)) + 'o' * (i + 1))\n",
    "    else:\n",
    "        print(\"Patrón no reconocido\")\n",
    "    "
   ]
  },
  {
   "cell_type": "code",
   "execution_count": 34,
   "metadata": {},
   "outputs": [
    {
     "name": "stdout",
     "output_type": "stream",
     "text": [
      "oooooooo\n",
      "ooo  ooo\n",
      "oo    oo\n",
      "o      o\n",
      "o      o\n",
      "oo    oo\n",
      "ooo  ooo\n",
      "oooooooo\n",
      "++++\n",
      "++++\n",
      "++++\n",
      "++++\n",
      "    ++++\n",
      "    ++++\n",
      "    ++++\n",
      "    ++++\n",
      "*\n",
      "**\n",
      "***\n",
      "****\n",
      "*****\n",
      "******\n",
      "*******\n",
      "********\n"
     ]
    }
   ],
   "source": [
    "#Realiza pruebas aquí\n",
    "ascii(8,3)\n",
    "ascii(8,2)\n",
    "ascii(8,1)\n",
    "ascii(8,1)"
   ]
  },
  {
   "cell_type": "markdown",
   "metadata": {},
   "source": [
    "### Clases y objetos\n",
    "\n",
    "Diseña una clase Matriz con las siguientes características:\n",
    "\n",
    "1. Como inicialización de un objeto es necesario conocer $n$, $m$ y tipo. En caso de no proporcionar $m$ la matriz se asume cuadrada de $n \\times n$. En caso de no proporcionar $n$ la matriz tendrá una dimensión de $1 \\times 1$. \n",
    "2. De no especificarse todos los elementos se inicializan a 0, a menos que exista un tipo especial ( `unos` o `diag` por el momento).\n",
    "3. Implementa con sobrecarga la suma de matrices, la multiplicación de matrices y la multiplicación por un escalar.\n",
    "4. Implementa como métodos eliminar columna y eliminar fila.   \n",
    "5. Programa la representación visual de la matriz. \n",
    "6. Ten en cuenta tambien el manejo de errores. \n",
    "\n",
    "\n",
    "Ejemplo de uso:\n",
    "\n",
    "```\n",
    ">>> A = Matriz(n=3, m=4)\n",
    "\n",
    ">>> print(A)\n",
    "0 0 0 0\n",
    "0 0 0 0\n",
    "0 0 0 0\n",
    "\n",
    ">>> A = A.quitafila(2)\n",
    "\n",
    ">>> print(A)\n",
    "0 0 0 0\n",
    "0 0 0 0\n",
    "\n",
    ">>> B = Matriz(4,4,'diag')\n",
    "\n",
    ">>> print(B)\n",
    "1 0 0 0\n",
    "0 1 0 0\n",
    "0 0 1 0\n",
    "0 0 0 1\n",
    "\n",
    ">>> C = Matriz(4,1,'unos')\n",
    "\n",
    ">>> print(C)\n",
    "1\n",
    "1\n",
    "1\n",
    "1\n",
    "\n",
    ">>> D = 3 * B * C\n",
    "\n",
    ">>> print(D)\n",
    "3\n",
    "3\n",
    "3\n",
    "3\n",
    "\n",
    ">>> E = 3 * B + C\n",
    "error \"No seas menso, si no son de la misma dimensión las matrices no se pueden sumar\"\n",
    "```"
   ]
  },
  {
   "cell_type": "code",
   "execution_count": 38,
   "metadata": {},
   "outputs": [],
   "source": [
    "class Matriz:\n",
    "    def __init__(self, n=1, m=None, tipo='cero'):\n",
    "        if m is None:\n",
    "            m = n\n",
    "            self.n = n\n",
    "            self.m = m\n",
    "            self.matriz = self._crear_matriz(tipo)\n",
    "\n",
    "    def _crear_matriz(self, tipo):\n",
    "        if tipo == 'unos':\n",
    "            return [[1 for _ in range(self.m)] for _ in range(self.n)]\n",
    "        elif tipo == 'diag':\n",
    "            return [[1 if i == j else 0 for j in range(self.m)] for i in range(self.n)]\n",
    "        else: \n",
    "            return [[0 for _ in range(self.m)] for _ in range(self.n)]\n",
    "\n",
    "    def __repr__(self):\n",
    "        return '\\n'.join([' '.join(map(str, fila)) for fila in self.matriz])\n",
    "\n",
    "    def __add__(self, otra):\n",
    "        if self.n != otra.n or self.m != otra.m:\n",
    "            raise ValueError(\"Las matrices deben tener las mismas dimensiones para sumar\")\n",
    "        resultado = Matriz(self.n, self.m)\n",
    "        for i in range(self.n):\n",
    "            for j in range(self.m):\n",
    "                resultado.matriz[i][j] = self.matriz[i][j] + otra.matriz[i][j]\n",
    "        return resultado\n",
    "\n",
    "    def __mul__(self, otra):\n",
    "        if isinstance(otra, Matriz):\n",
    "            if self.m != otra.n:\n",
    "                raise ValueError(\"El número de columnas de la primera matriz debe ser igual al número de filas de la segunda\")\n",
    "            resultado = Matriz(self.n, otra.m)\n",
    "            for i in range(self.n):\n",
    "                for j in range(otra.m):\n",
    "                    resultado.matriz[i][j] = sum(self.matriz[i][k] * otra.matriz[k][j] for k in range(self.m))\n",
    "            return resultado\n",
    "        elif isinstance(otra, (int, float)):\n",
    "            resultado = Matriz(self.n, self.m)\n",
    "            for i in range(self.n):\n",
    "                for j in range(self.m):\n",
    "                    resultado.matriz[i][j] = self.matriz[i][j] * otra\n",
    "            return resultado\n",
    "        else:\n",
    "            raise ValueError(\"La multiplicación solo se puede hacer con otra Matriz o un escalar\")\n",
    "\n",
    "    def quitarFila(self, fila):\n",
    "        self.matriz.pop(fila)\n",
    "        self.n -= 1\n",
    "\n",
    "    def quitarColumna(self, columna):\n",
    "        for fila in self.matriz:\n",
    "            fila.pop(columna)\n",
    "        self.m -= 1"
   ]
  },
  {
   "cell_type": "code",
   "execution_count": 39,
   "metadata": {},
   "outputs": [
    {
     "name": "stdout",
     "output_type": "stream",
     "text": [
      "A = "
     ]
    },
    {
     "ename": "AttributeError",
     "evalue": "'Matriz' object has no attribute 'matriz'",
     "output_type": "error",
     "traceback": [
      "\u001b[1;31m---------------------------------------------------------------------------\u001b[0m",
      "\u001b[1;31mAttributeError\u001b[0m                            Traceback (most recent call last)",
      "Input \u001b[1;32mIn [39]\u001b[0m, in \u001b[0;36m<cell line: 4>\u001b[1;34m()\u001b[0m\n\u001b[0;32m      1\u001b[0m \u001b[38;5;66;03m# Realiza las pruebas a la clase aquí\u001b[39;00m\n\u001b[0;32m      3\u001b[0m A \u001b[38;5;241m=\u001b[39m Matriz(n\u001b[38;5;241m=\u001b[39m\u001b[38;5;241m3\u001b[39m, m\u001b[38;5;241m=\u001b[39m\u001b[38;5;241m4\u001b[39m)\n\u001b[1;32m----> 4\u001b[0m \u001b[38;5;28;43mprint\u001b[39;49m\u001b[43m(\u001b[49m\u001b[38;5;124;43m'\u001b[39;49m\u001b[38;5;124;43mA =\u001b[39;49m\u001b[38;5;124;43m'\u001b[39;49m\u001b[43m,\u001b[49m\u001b[43m \u001b[49m\u001b[43mA\u001b[49m\u001b[43m)\u001b[49m\n\u001b[0;32m      6\u001b[0m A \u001b[38;5;241m=\u001b[39m A\u001b[38;5;241m.\u001b[39mquitafila(\u001b[38;5;241m2\u001b[39m)\n\u001b[0;32m      7\u001b[0m \u001b[38;5;28mprint\u001b[39m(\u001b[38;5;124m'\u001b[39m\u001b[38;5;124mA = \u001b[39m\u001b[38;5;124m'\u001b[39m, A)\n",
      "Input \u001b[1;32mIn [38]\u001b[0m, in \u001b[0;36mMatriz.__repr__\u001b[1;34m(self)\u001b[0m\n\u001b[0;32m     17\u001b[0m \u001b[38;5;28;01mdef\u001b[39;00m \u001b[38;5;21m__repr__\u001b[39m(\u001b[38;5;28mself\u001b[39m):\n\u001b[1;32m---> 18\u001b[0m     \u001b[38;5;28;01mreturn\u001b[39;00m \u001b[38;5;124m'\u001b[39m\u001b[38;5;130;01m\\n\u001b[39;00m\u001b[38;5;124m'\u001b[39m\u001b[38;5;241m.\u001b[39mjoin([\u001b[38;5;124m'\u001b[39m\u001b[38;5;124m \u001b[39m\u001b[38;5;124m'\u001b[39m\u001b[38;5;241m.\u001b[39mjoin(\u001b[38;5;28mmap\u001b[39m(\u001b[38;5;28mstr\u001b[39m, fila)) \u001b[38;5;28;01mfor\u001b[39;00m fila \u001b[38;5;129;01min\u001b[39;00m \u001b[38;5;28;43mself\u001b[39;49m\u001b[38;5;241;43m.\u001b[39;49m\u001b[43mmatriz\u001b[49m])\n",
      "\u001b[1;31mAttributeError\u001b[0m: 'Matriz' object has no attribute 'matriz'"
     ]
    }
   ],
   "source": [
    "# Realiza las pruebas a la clase aquí\n",
    "\n",
    "A = Matriz(n=3, m=4)\n",
    "print('A =', A)\n",
    "\n",
    "A = A.quitafila(2)\n",
    "print('A = ', A)\n",
    "\n",
    "B = Matriz(4,4,'diag')\n",
    "print('B = ', B)\n",
    "\n",
    "C = Matriz(4,1,'unos')\n",
    "print('C =', C)\n",
    "\n",
    "D = 3 * B * C\n",
    "print('D = ', D)\n",
    "\n",
    "E = 3 * B + C\n",
    "print('E = ', E)"
   ]
  },
  {
   "cell_type": "code",
   "execution_count": null,
   "metadata": {},
   "outputs": [],
   "source": []
  }
 ],
 "metadata": {
  "kernelspec": {
   "display_name": "Python 3 (ipykernel)",
   "language": "python",
   "name": "python3"
  },
  "language_info": {
   "codemirror_mode": {
    "name": "ipython",
    "version": 3
   },
   "file_extension": ".py",
   "mimetype": "text/x-python",
   "name": "python",
   "nbconvert_exporter": "python",
   "pygments_lexer": "ipython3",
   "version": "3.9.12"
  }
 },
 "nbformat": 4,
 "nbformat_minor": 2
}
